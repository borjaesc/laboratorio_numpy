{
 "cells": [
  {
   "cell_type": "markdown",
   "id": "6db588db",
   "metadata": {},
   "source": [
    "<div style=\"text-align: center;\">\n",
    "  <img src=\"https://github.com/Hack-io-Data/Imagenes/blob/main/01-LogosHackio/logo_naranja@4x.png?raw=true\" alt=\"esquema\" />\n",
    "</div>"
   ]
  },
  {
   "cell_type": "code",
   "execution_count": 2,
   "id": "11d3f85f",
   "metadata": {},
   "outputs": [],
   "source": [
    "import os"
   ]
  },
  {
   "cell_type": "code",
   "execution_count": 4,
   "id": "64ff9293",
   "metadata": {},
   "outputs": [
    {
     "data": {
      "text/plain": [
       "['laboratorio-modulo2-leccion01-numpy.ipynb',\n",
       " 'laboratorio-modulo2-leccion05-limpieza.ipynb',\n",
       " 'laboratorio-modulo2-leccion04-visualizacion.ipynb',\n",
       " 'laboratorio-modulo2-leccion03-groupby.ipynb',\n",
       " 'laboratorio-modulo2-leccion02-eda-union.ipynb',\n",
       " 'laboratorio-modulo2-leccion03-filtrado.ipynb']"
      ]
     },
     "execution_count": 4,
     "metadata": {},
     "output_type": "execute_result"
    }
   ],
   "source": [
    "datos = os.listdir()\n",
    "datos"
   ]
  },
  {
   "cell_type": "code",
   "execution_count": null,
   "id": "74e36252",
   "metadata": {},
   "outputs": [],
   "source": [
    "diccioanrio_df = {diccioanrio_df[re.findall(\"\\d{4}\", i)[0]] : pd.read_csv(f\"..dato/{i}\") for i in datos}\n",
    "\n",
    "diccioanrio_df = {}\n",
    "for i in datos:\n",
    "    df = pd.read_csv(i)\n",
    "    diccioanrio_df[i.spl]\n"
   ]
  },
  {
   "cell_type": "code",
   "execution_count": 1,
   "id": "ab221567",
   "metadata": {},
   "outputs": [],
   "source": [
    "import numpy as np "
   ]
  },
  {
   "cell_type": "markdown",
   "id": "11308d6c",
   "metadata": {},
   "source": [
    "for i in datos\n",
    "# Laboratorio de NumPy"
   ]
  },
  {
   "cell_type": "markdown",
   "id": "a19d4596",
   "metadata": {},
   "source": [
    "#### Ejercicio 1 - Crea un array de 1D con los números del 0 al 9."
   ]
  },
  {
   "cell_type": "code",
   "execution_count": 2,
   "id": "9d4e1d42",
   "metadata": {},
   "outputs": [
    {
     "name": "stdout",
     "output_type": "stream",
     "text": [
      "Array 1D: [0 1 2 3 4 5 6 7 8 9]\n"
     ]
    }
   ],
   "source": [
    "array1 = np.arange(10)\n",
    "print(\"Array 1D:\", array1)"
   ]
  },
  {
   "cell_type": "markdown",
   "id": "f4a41f16",
   "metadata": {},
   "source": [
    "#### Ejercicio 2 - Convierte un array 1D en un array 2D con 2 filas y 5 columnas."
   ]
  },
  {
   "cell_type": "code",
   "execution_count": 7,
   "id": "3d7cef3c",
   "metadata": {},
   "outputs": [
    {
     "name": "stdout",
     "output_type": "stream",
     "text": [
      "Este es el array 1D: [0 1 2 3 4 5 6 7 8 9]\n",
      "Este es el array convertido a 2D, con 2 filas y 5 columnas: [[0 1 2 3 4]\n",
      " [5 6 7 8 9]]\n"
     ]
    }
   ],
   "source": [
    "# podemos transformarlo porque tenemos el mismo numero de valores (10)\n",
    "array2 = array1.reshape(2,5)\n",
    "print(f\"Este es el array 1D: {array1}\")\n",
    "print(f\"Este es el array convertido a 2D, con 2 filas y 5 columnas: {array2}\")"
   ]
  },
  {
   "cell_type": "markdown",
   "id": "86bb8999",
   "metadata": {},
   "source": [
    "#### Ejercicio 3 - Encuentra los índices de los elementos con valor distinto de 0 en el siguiente array: [0, 2, 0, 3, 0, 4, 0]."
   ]
  },
  {
   "cell_type": "code",
   "execution_count": 8,
   "id": "d1fcfca4",
   "metadata": {},
   "outputs": [
    {
     "name": "stdout",
     "output_type": "stream",
     "text": [
      "Este es el array original:[0 2 0 3 0 4 0]\n",
      "Estos son los indices de elementos distintos de 0: [1, 3, 5]\n"
     ]
    }
   ],
   "source": [
    "array3 = np.array([0,2,0,3,0,4,0])\n",
    "indices = [i for i , value in enumerate(array3) if value !=0]\n",
    "\n",
    "print(f\"Este es el array original:{array3}\")\n",
    "print(f\"Estos son los indices de elementos distintos de 0: {indices}\")"
   ]
  },
  {
   "cell_type": "markdown",
   "id": "1c548419",
   "metadata": {},
   "source": [
    "#### Ejercicio 4 - Crea un array 3x3 con valores aleatorios entre 0 y 1."
   ]
  },
  {
   "cell_type": "code",
   "execution_count": null,
   "id": "e1d4f19f",
   "metadata": {},
   "outputs": [
    {
     "name": "stdout",
     "output_type": "stream",
     "text": [
      "Este es un array random con valores aleatorios entre 0 y 1:[[0.54782384 0.73093273 0.60954297]\n",
      " [0.18812286 0.39825672 0.0246486 ]\n",
      " [0.356278   0.82284931 0.38353228]]\n"
     ]
    }
   ],
   "source": [
    "#con np.random.rand reproducimos valores aleatorios, con np.random.randint valores enteros aleatorios \n",
    "array_random = np.random.rand(3,3)\n",
    "\n",
    "print(f\"Este es un array random con valores aleatorios entre 0 y 1:{array_random}\")"
   ]
  },
  {
   "cell_type": "markdown",
   "id": "aee82811",
   "metadata": {},
   "source": [
    "#### Ejercicio 5 - Crea un array de 10 números aleatorios y encuentra el valor máximo y mínimo."
   ]
  },
  {
   "cell_type": "code",
   "execution_count": 11,
   "id": "81fea76e",
   "metadata": {},
   "outputs": [
    {
     "name": "stdout",
     "output_type": "stream",
     "text": [
      "Este es el array random generado: [0.46049906 0.35496278 0.80503454 0.14595406 0.17701628 0.58003111\n",
      " 0.20253164 0.71953962 0.17166409 0.16656927]\n",
      "Este es el valor maximo del array: 0.8050345435960818\n",
      "Este es el valor minimo del array: 0.14595406071180872\n"
     ]
    }
   ],
   "source": [
    "# generamos un array con 10 numeros aleatorios ( cada vez que ejecutemos el código los valores cambiarán)\n",
    "array_random2 = np.random.rand(10)\n",
    "\n",
    "#creamos las variables de valor maximo y minimo con np.max y np.min \n",
    "valor_max = np.max(array_random2)\n",
    "valor_min = np.min(array_random2)\n",
    "\n",
    "# mostramos resultado \n",
    "print(f\"Este es el array random generado: {array_random2}\")\n",
    "print(f\"Este es el valor maximo del array: {valor_max}\")\n",
    "print(f\"Este es el valor minimo del array: {valor_min}\")"
   ]
  },
  {
   "cell_type": "markdown",
   "id": "6559375b",
   "metadata": {},
   "source": [
    "#### Ejercicio 6 - Crea un array de una dimensión e inviértelo. "
   ]
  },
  {
   "cell_type": "code",
   "execution_count": null,
   "id": "31385db0",
   "metadata": {},
   "outputs": [
    {
     "name": "stdout",
     "output_type": "stream",
     "text": [
      "Este el es el array original:[0 1 2 3 4 5 6 7 8 9]\n",
      "Este es el array invertido: [9 8 7 6 5 4 3 2 1 0]\n"
     ]
    }
   ],
   "source": [
    "array4 = np.arange(10)\n",
    "\n",
    "#desglosamos el array y empezamos metodo [start:stop:step] en donde start cogemos todos los numeros del array, stop recorremos de principio a fin y step -1 para que empiece en orden inverso de los indices.\n",
    "array_invertido = array4[::-1]\n",
    "\n",
    "\n",
    "print(f\"Este el es el array original:{array4}\")\n",
    "print(f\"Este es el array invertido: {array_invertido}\")"
   ]
  },
  {
   "cell_type": "markdown",
   "id": "4457f046",
   "metadata": {},
   "source": [
    "\n",
    "#### Ejercicio 6 - Genera un array tridimensional de dimensiones (2, 3, 4) con valores enteros del 1 al 24.\n",
    "\n",
    "- Selecciona el primer `15` del array.\n",
    "\n",
    "- Selecciona todos los elementos del primer array. \n",
    "\n",
    "- Selecciona la última fila del último array\n"
   ]
  },
  {
   "cell_type": "code",
   "execution_count": 13,
   "id": "3cab04c9",
   "metadata": {},
   "outputs": [
    {
     "name": "stdout",
     "output_type": "stream",
     "text": [
      "[[[ 1  2  3  4]\n",
      "  [ 5  6  7  8]\n",
      "  [ 9 10 11 12]]\n",
      "\n",
      " [[13 14 15 16]\n",
      "  [17 18 19 20]\n",
      "  [21 22 23 24]]]\n"
     ]
    }
   ],
   "source": [
    "array_tridimensional = np.arange(1,25)\n",
    "array_tridimensional = array_tridimensional.reshape(2,3,4)\n",
    "\n",
    "print(array_tridimensional)"
   ]
  },
  {
   "cell_type": "markdown",
   "id": "681b7e4e",
   "metadata": {},
   "source": [
    "\n",
    "#### Ejercicio 7 - Genera un array tridimensional de dimensiones (3, 2, 5) con valores enteros del 1 al 30.\n",
    "\n",
    "- Selecciona el subarray que contiene los dos primeros elementos de cada fila del primer array.\n",
    "\n",
    "- Selecciona el subarray que contiene todas las filas de los dos últimos arrays.\n"
   ]
  },
  {
   "cell_type": "code",
   "execution_count": 16,
   "id": "b008a9aa",
   "metadata": {},
   "outputs": [
    {
     "name": "stdout",
     "output_type": "stream",
     "text": [
      "[[[ 1  2  3  4  5]\n",
      "  [ 6  7  8  9 10]]\n",
      "\n",
      " [[11 12 13 14 15]\n",
      "  [16 17 18 19 20]]\n",
      "\n",
      " [[21 22 23 24 25]\n",
      "  [26 27 28 29 30]]]\n",
      "Este es el subarray que contiene los dos primeros elementos de cada fila del primer array:[3 8]\n",
      "Este es el segundo subarray que contiene todas las filas de los dos ultimos arrays:[[[11 12 13 14 15]\n",
      "  [16 17 18 19 20]]\n",
      "\n",
      " [[21 22 23 24 25]\n",
      "  [26 27 28 29 30]]]\n"
     ]
    }
   ],
   "source": [
    "array_tridimensional2 = np.arange(1,31)\n",
    "array_tridimensional2 = array_tridimensional2.reshape(3,2,5)\n",
    "\n",
    "print(array_tridimensional2)\n",
    "\n",
    "sub_array1 = array_tridimensional2[0, :, 2]\n",
    "print(f\"Este es el subarray que contiene los dos primeros elementos de cada fila del primer array:{sub_array1}\")\n",
    "\n",
    "sub_array2 = array_tridimensional2[1:, :, :]\n",
    "print(f\"Este es el segundo subarray que contiene todas las filas de los dos ultimos arrays:{sub_array2}\")\n",
    "\n"
   ]
  },
  {
   "cell_type": "markdown",
   "id": "4fabd9d0",
   "metadata": {},
   "source": [
    "#### Ejercicio 8 - Genera un array tridimensional de dimensiones (4, 3, 2) con valores enteros del 1 al 24.\n",
    "\n",
    "- Cambia todos los elementos de la segunda fila del segundo array por `0`.\n",
    "\n",
    "- Cambia todos los valores del último array a `-1`.\n"
   ]
  },
  {
   "cell_type": "code",
   "execution_count": 17,
   "id": "0ef45b69",
   "metadata": {},
   "outputs": [
    {
     "name": "stdout",
     "output_type": "stream",
     "text": [
      "Este es el array tridimensional original: [[[ 1  2]\n",
      "  [ 3  4]\n",
      "  [ 5  6]]\n",
      "\n",
      " [[ 7  8]\n",
      "  [ 9 10]\n",
      "  [11 12]]\n",
      "\n",
      " [[13 14]\n",
      "  [15 16]\n",
      "  [17 18]]\n",
      "\n",
      " [[19 20]\n",
      "  [21 22]\n",
      "  [23 24]]]\n",
      "Este el array con los cambios: [[[ 1  2]\n",
      "  [ 3  4]\n",
      "  [ 5  6]]\n",
      "\n",
      " [[ 7  8]\n",
      "  [ 0  0]\n",
      "  [11 12]]\n",
      "\n",
      " [[13 14]\n",
      "  [15 16]\n",
      "  [17 18]]\n",
      "\n",
      " [[-1 -1]\n",
      "  [-1 -1]\n",
      "  [-1 -1]]]\n"
     ]
    }
   ],
   "source": [
    "array_tridimensional3 = np.arange(1,25).reshape(4,3,2)\n",
    "print(f\"Este es el array tridimensional original: {array_tridimensional3}\")\n",
    "\n",
    "array_tridimensional3[1,1, :] = 0 \n",
    "array_tridimensional3[3,:,:] = -1\n",
    "\n",
    "print(f\"Este el array con los cambios: {array_tridimensional3}\")"
   ]
  },
  {
   "cell_type": "markdown",
   "id": "c60bc3bb",
   "metadata": {},
   "source": [
    "\n",
    "#### Ejercicio 9 - Genera un array tridimensional de dimensiones (2, 4, 3) con valores enteros del -10 al 13.\n",
    "\n",
    "- Selecciona todos los elementos mayores a `5`.\n",
    "\n",
    "- Reemplaza todos los elementos negativos por `0`.\n"
   ]
  },
  {
   "cell_type": "code",
   "execution_count": 21,
   "id": "28bf9232",
   "metadata": {},
   "outputs": [
    {
     "name": "stdout",
     "output_type": "stream",
     "text": [
      "Este el array tridimensional original :[[[-10  -9  -8]\n",
      "  [ -7  -6  -5]\n",
      "  [ -4  -3  -2]\n",
      "  [ -1   0   1]]\n",
      "\n",
      " [[  2   3   4]\n",
      "  [  5   6   7]\n",
      "  [  8   9  10]\n",
      "  [ 11  12  13]]]\n",
      "Estos son los elementos mayores a 5 en el array: [[[False False False]\n",
      "  [False False False]\n",
      "  [False False False]\n",
      "  [False False False]]\n",
      "\n",
      " [[False False False]\n",
      "  [False  True  True]\n",
      "  [ True  True  True]\n",
      "  [ True  True  True]]]\n"
     ]
    },
    {
     "ename": "IndexError",
     "evalue": "boolean index did not match indexed array along axis 1; size of axis is 4 but size of corresponding boolean axis is 3",
     "output_type": "error",
     "traceback": [
      "\u001b[0;31m---------------------------------------------------------------------------\u001b[0m",
      "\u001b[0;31mIndexError\u001b[0m                                Traceback (most recent call last)",
      "Cell \u001b[0;32mIn[21], line 7\u001b[0m\n\u001b[1;32m      4\u001b[0m elementos_mayores_a_5 \u001b[38;5;241m=\u001b[39m array_tridimensional4 \u001b[38;5;241m>\u001b[39m \u001b[38;5;241m5\u001b[39m\n\u001b[1;32m      5\u001b[0m \u001b[38;5;28mprint\u001b[39m(\u001b[38;5;124mf\u001b[39m\u001b[38;5;124m\"\u001b[39m\u001b[38;5;124mEstos son los elementos mayores a 5 en el array: \u001b[39m\u001b[38;5;132;01m{\u001b[39;00melementos_mayores_a_5\u001b[38;5;132;01m}\u001b[39;00m\u001b[38;5;124m\"\u001b[39m)\n\u001b[0;32m----> 7\u001b[0m \u001b[43marray_tridimensional4\u001b[49m\u001b[43m[\u001b[49m\u001b[43marray_tridimensional\u001b[49m\u001b[43m \u001b[49m\u001b[38;5;241;43m<\u001b[39;49m\u001b[43m \u001b[49m\u001b[38;5;241;43m0\u001b[39;49m\u001b[43m]\u001b[49m \u001b[38;5;241m=\u001b[39m \u001b[38;5;241m0\u001b[39m \n\u001b[1;32m      8\u001b[0m \u001b[38;5;28mprint\u001b[39m(\u001b[38;5;124mf\u001b[39m\u001b[38;5;124m\"\u001b[39m\u001b[38;5;124mEste es el array despues de camnbiar los elementos negativos por 0: \u001b[39m\u001b[38;5;132;01m{\u001b[39;00marray_tridimensional4\u001b[38;5;132;01m}\u001b[39;00m\u001b[38;5;124m\"\u001b[39m)\n",
      "\u001b[0;31mIndexError\u001b[0m: boolean index did not match indexed array along axis 1; size of axis is 4 but size of corresponding boolean axis is 3"
     ]
    }
   ],
   "source": [
    "array_tridimensional4 = np.arange(-10,14).reshape(2,4,3)\n",
    "print(f\"Este el array tridimensional original :{array_tridimensional4}\")\n",
    "\n",
    "elementos_mayores_a_5 = array_tridimensional4 > 5\n",
    "print(f\"Estos son los elementos mayores a 5 en el array: {elementos_mayores_a_5}\")\n",
    "\n",
    "array_tridimensional4[array_tridimensional < 0] = 0 \n",
    "print(f\"Este es el array despues de camnbiar los elementos negativos por 0: {array_tridimensional4}\")\n"
   ]
  },
  {
   "cell_type": "markdown",
   "id": "ab38a3be",
   "metadata": {},
   "source": [
    "#### Ejercicio 10 - Genera un array tridimensional de dimensiones (3, 3, 3) con valores enteros del 1 al 27.\n",
    "\n",
    "- Selecciona el subarray del segundo array que contenga solo las dos primeras columnas.\n",
    "\n",
    "- Selecciona todos los elementos del tercer array que sean mayores que `20`.\n"
   ]
  },
  {
   "cell_type": "code",
   "execution_count": 22,
   "id": "78c979cf",
   "metadata": {},
   "outputs": [
    {
     "name": "stdout",
     "output_type": "stream",
     "text": [
      "[[[ 1  2  3]\n",
      "  [ 4  5  6]\n",
      "  [ 7  8  9]]\n",
      "\n",
      " [[10 11 12]\n",
      "  [13 14 15]\n",
      "  [16 17 18]]\n",
      "\n",
      " [[19 20 21]\n",
      "  [22 23 24]\n",
      "  [25 26 27]]]\n",
      "Este es el primer subarray : [[10 11]\n",
      " [13 14]\n",
      " [16 17]]\n",
      "Este es el segundo subarray con elementos mayores a 20: [21 22 23 24 25 26 27]\n"
     ]
    }
   ],
   "source": [
    "array_tridimensiona5 = np.arange(1,28).reshape(3,3,3)\n",
    "print(array_tridimensiona5)\n",
    "\n",
    "sub_array3 = array_tridimensiona5[1,:,:2]\n",
    "print(f\"Este es el primer subarray : {sub_array3}\")\n",
    "\n",
    "sub_array4 = array_tridimensiona5[2,array_tridimensiona5[2] > 20]\n",
    "print(f\"Este es el segundo subarray con elementos mayores a 20: {sub_array4}\")"
   ]
  },
  {
   "cell_type": "markdown",
   "id": "f1a00156",
   "metadata": {},
   "source": [
    "#### Ejercicio 11 - Crea un array de 10 números aleatorios y reemplaza los valores máximos y mínimos por 0."
   ]
  },
  {
   "cell_type": "code",
   "execution_count": 29,
   "id": "990fa526",
   "metadata": {},
   "outputs": [
    {
     "name": "stdout",
     "output_type": "stream",
     "text": [
      "Este el array original: [ 0  1  2  3  4  5  6  7  8  9 10]\n",
      "Este es el array definitvo con los valores sustituidos :[0 1 2 3 4 5 6 7 8 9 0]\n"
     ]
    }
   ],
   "source": [
    "array_aleatorio = np.arange(11)\n",
    "print(f\"Este el array original: {array_aleatorio}\")\n",
    "\n",
    "valor_maximo = np.max(array_aleatorio)\n",
    "valor_minimo = np.min(array_aleatorio)\n",
    "\n",
    "array_aleatorio [array_aleatorio == valor_maximo] = 0 \n",
    "array_aleatorio [array_aleatorio == valor_minimo] = 0\n",
    "print(f\"Este es el array definitvo con los valores sustituidos :{array_aleatorio}\")"
   ]
  },
  {
   "cell_type": "markdown",
   "id": "781fafd0",
   "metadata": {},
   "source": [
    "#### Ejercicio 12 - Genera un array de 15 números aleatorios enteros entre 1 y 100 y reordénalo en orden ascendente."
   ]
  },
  {
   "cell_type": "code",
   "execution_count": 31,
   "id": "caa4fd47",
   "metadata": {},
   "outputs": [
    {
     "name": "stdout",
     "output_type": "stream",
     "text": [
      "Este es el array original: [51 11 40 43 25 93 91 71 84 82 34 88 17 95 35]\n",
      "Este es el array con orden ascendente : [11 17 25 34 35 40 43 51 71 82 84 88 91 93 95]\n"
     ]
    }
   ],
   "source": [
    "array_aleatorio2 = np.random.randint(1,101, size=15)\n",
    "print(f\"Este es el array original: {array_aleatorio2}\")\n",
    "\n",
    "array_ascendente = np.sort(array_aleatorio2)\n",
    "print(f\"Este es el array con orden ascendente : {array_ascendente}\")"
   ]
  },
  {
   "cell_type": "markdown",
   "id": "45f10c3e",
   "metadata": {},
   "source": [
    "#### Ejercicio 11 - Calcula la suma de los elementos a lo largo de las filas y columnas en una matriz 4x4."
   ]
  },
  {
   "cell_type": "code",
   "execution_count": 32,
   "id": "90220788",
   "metadata": {},
   "outputs": [
    {
     "name": "stdout",
     "output_type": "stream",
     "text": [
      "Esta es la matriz 4x4 : [[ 1  4  3  1]\n",
      " [ 8 10  1  5]\n",
      " [ 8  3  6  7]\n",
      " [ 2  5 10  1]]\n",
      "Esta es la suma de las filas:[np.int64(9), np.int64(24), np.int64(24), np.int64(18)]\n",
      "Esta es la suma de las columnas:[np.int64(19), np.int64(22), np.int64(20), np.int64(14)]\n"
     ]
    }
   ],
   "source": [
    "matriz = np.random.randint(1,11, size=(4,4))\n",
    "print(f\"Esta es la matriz 4x4 : {matriz}\")\n",
    "\n",
    "suma_filas = []\n",
    "for fila in matriz : \n",
    "    suma_filas.append(sum(fila))\n",
    "\n",
    "    suma_columnas = []\n",
    "    for col in range(matriz.shape[1]): \n",
    "        suma_columnas.append(sum(matriz[:,col]))\n",
    "\n",
    "print(f\"Esta es la suma de las filas:{suma_filas}\")\n",
    "print(f\"Esta es la suma de las columnas:{suma_columnas}\")"
   ]
  },
  {
   "cell_type": "markdown",
   "id": "69b9751a",
   "metadata": {},
   "source": [
    "#### Ejercicio 12 - Crea una matriz de 5x5 con valores en el borde igual a 1 y en el interior igual a 0."
   ]
  },
  {
   "cell_type": "code",
   "execution_count": null,
   "id": "eca81323",
   "metadata": {},
   "outputs": [],
   "source": []
  },
  {
   "cell_type": "markdown",
   "id": "1ea8068d",
   "metadata": {},
   "source": [
    "#### Ejercicio 13 - Calcula la media y la desviación estándar de un array de 10 números aleatorios."
   ]
  },
  {
   "cell_type": "code",
   "execution_count": null,
   "id": "05dd579d",
   "metadata": {},
   "outputs": [],
   "source": []
  },
  {
   "cell_type": "markdown",
   "id": "6add6669",
   "metadata": {},
   "source": [
    "#### Ejercicio 14 - Genera un array tridimensional de dimensiones (2, 3, 4) con valores enteros del 1 al 24.\n",
    "\n",
    "- Transpón el array para intercambiar los ejes de la forma (2, 3, 4) a (4, 3, 2).\n",
    "\n",
    "- Observa cómo cambian las posiciones de los elementos y sus índices después de la transposición. Explica en una celda de markdown que es lo que ha pasado. \n"
   ]
  },
  {
   "cell_type": "code",
   "execution_count": null,
   "id": "ae98aca5",
   "metadata": {},
   "outputs": [],
   "source": []
  },
  {
   "cell_type": "markdown",
   "id": "1e32b5e6",
   "metadata": {},
   "source": [
    "#### Ejercicio 15 - Genera un array tridimensional de dimensiones (3, 4, 2) con valores enteros del 1 al 24.\n",
    "\n",
    "- Transpón el array para intercambiar el primer y segundo eje, de manera que la nueva forma del array sea (4, 3, 2).\n"
   ]
  },
  {
   "cell_type": "code",
   "execution_count": null,
   "id": "0146fdd6",
   "metadata": {},
   "outputs": [],
   "source": []
  },
  {
   "cell_type": "markdown",
   "id": "fcf92586",
   "metadata": {},
   "source": [
    "#### Ejercicio 16 - Genera un array tridimensional de dimensiones (3, 2, 4) con valores enteros del 1 al 24.\n",
    "\n",
    "- Realiza una rotación completa de los ejes para convertir la forma original (3, 2, 4) en (4, 3, 2).\n"
   ]
  },
  {
   "cell_type": "code",
   "execution_count": null,
   "id": "dd2c7f27",
   "metadata": {},
   "outputs": [],
   "source": []
  },
  {
   "cell_type": "markdown",
   "id": "1795e11f",
   "metadata": {},
   "source": [
    "#### Ejercicio 17 - Manipulación de Arrays en 3D\n",
    "\n",
    "- Crea un array tridimensional con dimensiones (3, 4, 5) cuyos elementos sean números enteros aleatorios entre -10 y 10.\n",
    "\n",
    "- Crea un array vacío con la misma forma y dimensiones que el array creado anteriormente. Luego, reemplaza los valores de la matriz vacía basada en los valores del primer array bajo las siguientes condiciones:\n",
    "\n",
    "   - Si el valor es igual a la mediana, se reemplaza por `\"M\"`.\n",
    "\n",
    "   - Si el valor es mayor que la mediana, se reemplaza por `\"X\"`.\n",
    "\n",
    "   - Si el valor es menor que la mediana, se reemplaza por `\"Y\"`.\n",
    "\n",
    "   - Si el valor es igual al máximo, se reemplaza por `\"MAX\"`.\n",
    "\n",
    "   - Si el valor es igual al mínimo, se reemplaza por `\"MIN\"`.\n"
   ]
  },
  {
   "cell_type": "code",
   "execution_count": null,
   "id": "d309b397",
   "metadata": {},
   "outputs": [],
   "source": []
  },
  {
   "cell_type": "markdown",
   "id": "83794704",
   "metadata": {},
   "source": [
    "#### Ejercicio 18 - Verificación de Filas y Columnas Iguales\n",
    "\n",
    "Crea un array bidimensional de dimensiones 4x4, escribe un código para determinar si alguna fila es exactamente igual a alguna columna.\n",
    "\n",
    "**Reglas:**\n",
    "\n",
    "- No puedes usar funciones predefinidas de NumPy para comparar filas y columnas (`np.array_equal`, etc.).\n",
    "\n",
    "- Debes resolverlo con estructuras básicas de Python (bucles, condicionales, etc.).\n",
    "\n",
    "- Debes revisar si hay al menos una fila que coincida exactamente con alguna columna.\n",
    "\n",
    "**Pistas**:\n",
    "\n",
    "- Puedes recorrer cada fila y cada columna de la matriz usando bucles.\n",
    "\n",
    "- Para comparar una fila con una columna, puedes hacerlo elemento por elemento."
   ]
  },
  {
   "cell_type": "code",
   "execution_count": null,
   "id": "afd51c60",
   "metadata": {},
   "outputs": [],
   "source": []
  }
 ],
 "metadata": {
  "kernelspec": {
   "display_name": "Python 3",
   "language": "python",
   "name": "python3"
  },
  "language_info": {
   "codemirror_mode": {
    "name": "ipython",
    "version": 3
   },
   "file_extension": ".py",
   "mimetype": "text/x-python",
   "name": "python",
   "nbconvert_exporter": "python",
   "pygments_lexer": "ipython3",
   "version": "3.9.6"
  }
 },
 "nbformat": 4,
 "nbformat_minor": 5
}
